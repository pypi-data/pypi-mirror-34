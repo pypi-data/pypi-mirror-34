{
 "cells": [
  {
   "cell_type": "markdown",
   "metadata": {},
   "source": [
    "Eodag basics\n",
    "===========\n",
    "\n",
    "We present the two basic features of eodag : search and download.\n",
    "\n",
    "Let's start by creating a workspace directory where all our files and configuration will live:"
   ]
  },
  {
   "cell_type": "code",
   "execution_count": null,
   "metadata": {},
   "outputs": [],
   "source": [
    "import os\n",
    "\n",
    "workspace = 'eodag_workspace'\n",
    "if not os.path.isdir(workspace):\n",
    "    os.mkdir(workspace)"
   ]
  },
  {
   "cell_type": "markdown",
   "metadata": {},
   "source": [
    "Next, we consider that we have a configuration file sitting in our workspace called `eodag_conf.yml`, with this minimalist content:\n",
    "\n",
    "    outputs_prefix: <absolute_path_to_eodag_workspace>\n",
    "    extract: true\n",
    "    \n",
    "The rest of the configuration is the providers credentials given as described in the documentation.\n",
    "\n",
    "The first step is to initialize the session by creating an `EODataAccessGateway` instance, with the previous configuration file:"
   ]
  },
  {
   "cell_type": "code",
   "execution_count": null,
   "metadata": {},
   "outputs": [],
   "source": [
    "# To have some basic feedback on what eodag is doing, we configure logging to output minimum information\n",
    "from eodag.utils.logging import setup_logging\n",
    "setup_logging(verbose=1)\n",
    "\n",
    "from eodag.api.core import EODataAccessGateway\n",
    "\n",
    "conf_path = os.path.join(workspace, 'eodag_conf.yml')\n",
    "\n",
    "dag = EODataAccessGateway(user_conf_file_path=conf_path)"
   ]
  },
  {
   "cell_type": "markdown",
   "metadata": {},
   "source": [
    "Now let's search for Sentinel 2 L1C products in the South of France:"
   ]
  },
  {
   "cell_type": "code",
   "execution_count": null,
   "metadata": {},
   "outputs": [],
   "source": [
    "from datetime import date\n",
    "\n",
    "product_type = 'S2_MSI_L1C'\n",
    "extent = {\n",
    "    'lonmin': -1.999512,\n",
    "    'lonmax': 4.570313,\n",
    "    'latmin': 42.763146,\n",
    "    'latmax': 46.754917\n",
    "}\n",
    "\n",
    "products = dag.search(\n",
    "    product_type,\n",
    "    startTimeFromAscendingNode='2018-06-01',\n",
    "    completionTimeFromAscendingNode=date.today().isoformat(),\n",
    "    geometry=extent\n",
    ")"
   ]
  },
  {
   "cell_type": "markdown",
   "metadata": {},
   "source": [
    "Now that we have found some products, we can store the search result in a geojson file that will be used for later download:"
   ]
  },
  {
   "cell_type": "code",
   "execution_count": null,
   "metadata": {
    "scrolled": true
   },
   "outputs": [],
   "source": [
    "search_result_file = dag.serialize(products, filename=os.path.join(workspace, 'search_results.geojson'))"
   ]
  },
  {
   "cell_type": "markdown",
   "metadata": {},
   "source": [
    "We can check the extents of the products before downloading them by using ipyleaflet API:"
   ]
  },
  {
   "cell_type": "code",
   "execution_count": null,
   "metadata": {
    "scrolled": false
   },
   "outputs": [],
   "source": [
    "import ipyleaflet as ipyl\n",
    "\n",
    "m = ipyl.Map(center=[43.6, 1.5], zoom=5)\n",
    "layer = ipyl.GeoJSON(data=products.as_geojson_object(), hover_style={'fillColor': 'yellow'})\n",
    "m.add_layer(layer)\n",
    "m"
   ]
  },
  {
   "cell_type": "markdown",
   "metadata": {},
   "source": [
    "Finally, we can download from the eodag SearchResult object `products`, (or from the GeoJson previously created):"
   ]
  },
  {
   "cell_type": "code",
   "execution_count": null,
   "metadata": {
    "scrolled": false
   },
   "outputs": [],
   "source": [
    "# Download the first product found\n",
    "dag.download(products[0])"
   ]
  },
  {
   "cell_type": "markdown",
   "metadata": {},
   "source": [
    "This concludes the tutorial for the basic usage of eodag."
   ]
  }
 ],
 "metadata": {
  "kernelspec": {
   "display_name": "Python",
   "language": "python",
   "name": "python"
  },
  "language_info": {
   "codemirror_mode": {
    "name": "ipython",
    "version": 2
   },
   "file_extension": ".py",
   "mimetype": "text/x-python",
   "name": "python",
   "nbconvert_exporter": "python",
   "pygments_lexer": "ipython2",
   "version": "2.7.12"
  }
 },
 "nbformat": 4,
 "nbformat_minor": 2
}
