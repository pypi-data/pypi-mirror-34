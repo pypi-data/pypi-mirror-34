{
 "cells": [
  {
   "cell_type": "markdown",
   "metadata": {},
   "source": [
    "Eodag basic use tutorial\n",
    "===========\n",
    "\n",
    "This notebook presents the two basic features of eodag : search and download."
   ]
  },
  {
   "cell_type": "code",
   "execution_count": 1,
   "metadata": {},
   "outputs": [],
   "source": [
    "import os, fnmatch\n",
    "import json, geojson\n",
    "from datetime import date\n",
    "\n",
    "import ipyleaflet as ipyl\n",
    "import ipywidgets as ipyw\n",
    "from IPython.display import display, Image\n",
    "\n",
    "from eodag.api.core import SatImagesAPI\n",
    "\n",
    "\n",
    "base_dir = '/projects/sdk'"
   ]
  },
  {
   "cell_type": "markdown",
   "metadata": {},
   "source": [
    "The first step is to initialize the session by creating an eodag instance, with the configuration file that contains all providers credentials (here called *myconf.yml*):"
   ]
  },
  {
   "cell_type": "code",
   "execution_count": 2,
   "metadata": {},
   "outputs": [],
   "source": [
    "dag = SatImagesAPI(user_conf_file_path='%s/myconf.yml' % base_dir)"
   ]
  },
  {
   "cell_type": "markdown",
   "metadata": {},
   "source": [
    "We make a search on L1C Sentinel product types in Southern France:"
   ]
  },
  {
   "cell_type": "code",
   "execution_count": 3,
   "metadata": {
    "scrolled": true
   },
   "outputs": [
    {
     "data": {
      "text/plain": [
       "'/projects/sdk/search_results.geojson'"
      ]
     },
     "execution_count": 3,
     "metadata": {},
     "output_type": "execute_result"
    }
   ],
   "source": [
    "product_type = 'S2_MSI_L1C'\n",
    "extent = {\n",
    "    'lonmin': -1.999512,\n",
    "    'lonmax': 4.570313,\n",
    "    'latmin': 42.763146,\n",
    "    'latmax': 46.754917\n",
    "}\n",
    "\n",
    "products = dag.search(product_type, \n",
    "                      startTimeFromAscendingNode='2018-06-01', \n",
    "                      completionTimeFromAscendingNode=date.today().isoformat(), \n",
    "                      geometry=extent)\n",
    "\n",
    "dag.serialize(products, filename='%s/search_results.geojson' % base_dir)"
   ]
  },
  {
   "cell_type": "markdown",
   "metadata": {},
   "source": [
    "The result of the search is easily saved in a geojson file, and we can check extents before downloading products with ipyleaflet API :"
   ]
  },
  {
   "cell_type": "code",
   "execution_count": 4,
   "metadata": {
    "scrolled": false
   },
   "outputs": [
    {
     "data": {
      "text/plain": [
       "VkJveChjaGlsZHJlbj0oTWFwKGJhc2VtYXA9eyd1cmwnOiAnaHR0cHM6Ly97c30udGlsZS5vcGVuc3RyZWV0bWFwLm9yZy97en0ve3h9L3t5fS5wbmcnLCAnbWF4X3pvb20nOiAxOSwgJ2F0dHLigKY=\n"
      ]
     },
     "metadata": {},
     "output_type": "display_data"
    }
   ],
   "source": [
    "emap, label = ipyl.Map(center=[43.6, 1.5], zoom=4), ipyw.Label(layout=ipyw.Layout(width='100%'))\n",
    "layer = ipyl.GeoJSON(data=products.as_geojson_object(), hover_style={'fillColor': 'yellow'})\n",
    "\n",
    "def hover_handler(event=None, id=None, properties=None):\n",
    "    label.value = properties['title']\n",
    "\n",
    "layer.on_hover(hover_handler)\n",
    "emap.add_layer(layer)\n",
    "\n",
    "ipyw.VBox([emap, label])"
   ]
  },
  {
   "cell_type": "markdown",
   "metadata": {},
   "source": [
    "We can download from the eodag SearchResult object `products`, (or from the GeoJson previously created) :"
   ]
  },
  {
   "cell_type": "code",
   "execution_count": 5,
   "metadata": {
    "scrolled": true
   },
   "outputs": [
    {
     "name": "stderr",
     "output_type": "stream",
     "text": [
      "No handlers could be found for logger \"eodag.plugins.download.http\"\n",
      "407MKB [00:35, 11.7MKB/s] \n",
      "Extracting files from /home/baptiste/data/S2B_MSIL1C_20180608T105649_N0206_R094_T30TYP_20180608T120643.zip:   0%|          | 0/108 [00:00<?, ?file/s]\u001b[A\n",
      "Extracting files from /home/baptiste/data/S2B_MSIL1C_20180608T105649_N0206_R094_T30TYP_20180608T120643.zip:  13%|█▎        | 14/108 [00:00<00:01, 70.88file/s]\u001b[A\n",
      "Extracting files from /home/baptiste/data/S2B_MSIL1C_20180608T105649_N0206_R094_T30TYP_20180608T120643.zip:  16%|█▌        | 17/108 [00:00<00:03, 26.17file/s]\u001b[A\n",
      "Extracting files from /home/baptiste/data/S2B_MSIL1C_20180608T105649_N0206_R094_T30TYP_20180608T120643.zip:  18%|█▊        | 19/108 [00:00<00:04, 21.96file/s]\u001b[A\n",
      "Extracting files from /home/baptiste/data/S2B_MSIL1C_20180608T105649_N0206_R094_T30TYP_20180608T120643.zip:  19%|█▉        | 21/108 [00:01<00:04, 19.48file/s]\u001b[A\n",
      "Extracting files from /home/baptiste/data/S2B_MSIL1C_20180608T105649_N0206_R094_T30TYP_20180608T120643.zip:  21%|██▏       | 23/108 [00:01<00:04, 19.40file/s]\u001b[A\n",
      "Extracting files from /home/baptiste/data/S2B_MSIL1C_20180608T105649_N0206_R094_T30TYP_20180608T120643.zip:  23%|██▎       | 25/108 [00:01<00:04, 17.89file/s]\u001b[A\n",
      "Extracting files from /home/baptiste/data/S2B_MSIL1C_20180608T105649_N0206_R094_T30TYP_20180608T120643.zip:  25%|██▌       | 27/108 [00:01<00:04, 17.35file/s]\u001b[A\n",
      "Extracting files from /home/baptiste/data/S2B_MSIL1C_20180608T105649_N0206_R094_T30TYP_20180608T120643.zip: 100%|██████████| 108/108 [00:01<00:00, 65.98file/s]\u001b[A"
     ]
    }
   ],
   "source": [
    "product = products[0]\n",
    "product_path = product.download()"
   ]
  }
 ],
 "metadata": {
  "kernelspec": {
   "display_name": "Python 2",
   "language": "python",
   "name": "python2"
  },
  "language_info": {
   "codemirror_mode": {
    "name": "ipython",
    "version": 2
   },
   "file_extension": ".py",
   "mimetype": "text/x-python",
   "name": "python",
   "nbconvert_exporter": "python",
   "pygments_lexer": "ipython2",
   "version": "2.7.12"
  }
 },
 "nbformat": 4,
 "nbformat_minor": 2
}
