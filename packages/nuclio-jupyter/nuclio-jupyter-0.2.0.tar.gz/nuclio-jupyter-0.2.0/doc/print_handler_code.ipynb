{
 "cells": [
  {
   "cell_type": "code",
   "execution_count": 3,
   "metadata": {},
   "outputs": [],
   "source": [
    "# nuclio: ignore\n",
    "\n",
    "from nuclio import Context, Event, print_handler_code\n",
    "\n",
    "context = Context()\n",
    "event = Event(body='Dave')"
   ]
  },
  {
   "cell_type": "code",
   "execution_count": 4,
   "metadata": {},
   "outputs": [],
   "source": [
    "x = 1"
   ]
  },
  {
   "cell_type": "code",
   "execution_count": 5,
   "metadata": {},
   "outputs": [
    {
     "data": {
      "text/plain": [
       "'Hello Dave. How are you?'"
      ]
     },
     "execution_count": 5,
     "metadata": {},
     "output_type": "execute_result"
    }
   ],
   "source": [
    "# nuclio: handler\n",
    "\n",
    "'Hello ' + event.body + '. How are you?'"
   ]
  },
  {
   "cell_type": "code",
   "execution_count": 9,
   "metadata": {},
   "outputs": [
    {
     "name": "stdout",
     "output_type": "stream",
     "text": [
      "\n",
      "# coding: utf-8\n",
      "\n",
      "# In[3]:\n",
      "\n",
      "\n",
      "# # nuclio: ignore\n",
      "\n",
      "# from nuclio import Context, Event, print_handler_code\n",
      "\n",
      "# context = Context()\n",
      "# event = Event(body='Dave')\n",
      "\n",
      "\n",
      "# In[4]:\n",
      "\n",
      "\n",
      "x = 1\n",
      "\n",
      "\n",
      "# In[5]:\n",
      "\n",
      "\n",
      "def handler(context, event):\n",
      "    # nuclio: handler\n",
      "\n",
      "    return 'Hello ' + event.body + '. How are you?'\n",
      "\n",
      "# In[8]:\n",
      "\n",
      "\n",
      "# # nuclio: ignore\n",
      "# print_handler_code()\n",
      "\n",
      "\n"
     ]
    }
   ],
   "source": [
    "# nuclio: ignore\n",
    "print_handler_code()"
   ]
  },
  {
   "cell_type": "code",
   "execution_count": null,
   "metadata": {},
   "outputs": [],
   "source": []
  }
 ],
 "metadata": {
  "kernelspec": {
   "display_name": "Python 3",
   "language": "python",
   "name": "python3"
  },
  "language_info": {
   "codemirror_mode": {
    "name": "ipython",
    "version": 3
   },
   "file_extension": ".py",
   "mimetype": "text/x-python",
   "name": "python",
   "nbconvert_exporter": "python",
   "pygments_lexer": "ipython3",
   "version": "3.7.0"
  }
 },
 "nbformat": 4,
 "nbformat_minor": 2
}
