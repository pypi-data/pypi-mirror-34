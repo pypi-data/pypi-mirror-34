{
 "cells": [
  {
   "cell_type": "markdown",
   "metadata": {},
   "source": [
    "## Outliers\n",
    "\n",
    "Outliers are data points that we dont want to consider in our fit. The reasons can be different. It might be spurious signal falling on the detector, like glitches, or in principle valid signal that cannot be considered in the model at hand.\n",
    "\n",
    "Here we present the same data as in the methanol example. See there for explanation of the construction of the spectrum. \n",
    "\n",
    "Part of that spectrum (around 500 GHz) shows a sinusoidal background signal, which is caused by aliasing in the deconvolution process. \n",
    "\n",
    "We want to fit the background with a sine function. All absorption lines in the spectrum are outliers and should be disregarded.\n",
    "\n",
    "In this example we use the NestedSampler with a mixture of 2 error distributions: Gauss and Uniform\n",
    "\n",
    "Demonstration: \n",
    "    1. Compound model of sine + constant\n",
    "    2. NestedSampler \n",
    "    3. MixedErrorDistribution: Gauss + Uniform\n",
    "\n",
    "Author: Do Kester\n"
   ]
  },
  {
   "cell_type": "markdown",
   "metadata": {},
   "source": [
    "We need to import some classes"
   ]
  },
  {
   "cell_type": "code",
   "execution_count": 1,
   "metadata": {},
   "outputs": [],
   "source": [
    "import numpy as numpy\n",
    "import math\n",
    "\n",
    "from astropy.io import fits\n",
    "from BayesicFitting import SineModel\n",
    "from BayesicFitting import PolynomialModel\n",
    "from BayesicFitting import NestedSampler\n",
    "from BayesicFitting import MixedErrorDistribution\n",
    "from BayesicFitting import GaussErrorDistribution\n",
    "from BayesicFitting import UniformErrorDistribution\n",
    "from BayesicFitting import formatter as fmt\n",
    "from BayesicFitting import Tools\n",
    "from BayesicFitting import plotFit\n",
    "import matplotlib.pyplot as plt\n",
    "import matplotlib.gridspec as gridspec\n"
   ]
  },
  {
   "cell_type": "code",
   "execution_count": 2,
   "metadata": {},
   "outputs": [],
   "source": [
    "# uncomment the next line to get the plots in a separate scalable \n",
    "# window.\n",
    "\n",
    "#%matplotlib osx\n",
    "\n",
    "%matplotlib inline"
   ]
  },
  {
   "cell_type": "markdown",
   "metadata": {},
   "source": [
    "Read the data"
   ]
  },
  {
   "cell_type": "code",
   "execution_count": 3,
   "metadata": {},
   "outputs": [],
   "source": [
    "hdu = fits.open( \"data/Decgf-Methanol-1-5.fits\" )"
   ]
  },
  {
   "cell_type": "code",
   "execution_count": 4,
   "metadata": {},
   "outputs": [],
   "source": [
    "data = hdu[1].data\n",
    "flux = data.field( 0 )\n",
    "freq = data.field( 1 )\n",
    "covr = data.field( 2 )\n"
   ]
  },
  {
   "cell_type": "markdown",
   "metadata": {},
   "source": [
    "Select the part between 490 and 560 GHz, where the background is aliased."
   ]
  },
  {
   "cell_type": "code",
   "execution_count": 5,
   "metadata": {},
   "outputs": [
    {
     "name": "stdout",
     "output_type": "stream",
     "text": [
      "140000\n"
     ]
    },
    {
     "data": {
      "image/png": "[encoded data removed]",
      "text/plain": [
       "<matplotlib.figure.Figure at 0x1147f35f8>"
      ]
     },
     "metadata": {},
     "output_type": "display_data"
    }
   ],
   "source": [
    "q = numpy.where( numpy.logical_and( freq > 490, freq < 560 ))\n",
    "flx = flux[q]\n",
    "frq = freq[q]\n",
    "cov = covr[q]\n",
    "print( len( flx ) )\n",
    "plt.figure( \"490 to 560\", figsize=(12,4) )\n",
    "plt.plot( frq, flx, 'k-')\n",
    "plt.ylabel( \"flux\" )\n",
    "plt.xlabel( \"frequency (GHz)\" )\n",
    "\n",
    "plt.show()\n"
   ]
  },
  {
   "cell_type": "markdown",
   "metadata": {},
   "source": [
    "Make a compound model consisting of a SineModel plus a constant: PolynomialModel( 0 )."
   ]
  },
  {
   "cell_type": "code",
   "execution_count": 6,
   "metadata": {},
   "outputs": [],
   "source": [
    "sm = SineModel()\n",
    "lo = [0.9, -0.2, -0.2]\n",
    "hi = [1.1, 0.2,  0.2]\n",
    "sm.setLimits( lo, hi )\n",
    "pm = PolynomialModel( 0 )\n",
    "pm.setLimits( [0.99], [1.01] )\n",
    "model = pm + sm\n"
   ]
  },
  {
   "cell_type": "markdown",
   "metadata": {},
   "source": [
    "Construct a mixed error distribution consisting of a Gaussian kernel which should catch the sinusoidal background plus a broad Uniform error distribution that should catch and neutralize the absorption lines."
   ]
  },
  {
   "cell_type": "code",
   "execution_count": 7,
   "metadata": {
    "scrolled": false
   },
   "outputs": [
    {
     "name": "stdout",
     "output_type": "stream",
     "text": [
      "Fit all parameters of\n",
      "  Polynomial: f( x:p ) = p_0 +\n",
      "  Sine: f( x:p ) = p_2 * cos( 2PI * x * p_1 ) + p_3 * sin( 2PI * x * p_1 )\n",
      "Using a Mixed error distribution : Gauss + Uniform with with unknown hypar\n",
      "Moving the walkers with   GalileanEngine\n",
      "Iteration   logZ        H     LowL     npar    parameters\n",
      "       0 -359677486.0      4.6 -359677481.4      7  [    1.004    0.946    0.096    0.170    0.002 ...]\n"
     ]
    },
    {
     "name": "stderr",
     "output_type": "stream",
     "text": [
      "/opt/local/Library/Frameworks/Python.framework/Versions/3.5/lib/python3.5/site-packages/BayesicFitting-1.0.4-py3.5.egg/BayesicFitting/source/MixedErrorDistribution.py:200: RuntimeWarning: divide by zero encountered in true_divide\n",
      "/opt/local/Library/Frameworks/Python.framework/Versions/3.5/lib/python3.5/site-packages/BayesicFitting-1.0.4-py3.5.egg/BayesicFitting/source/MixedErrorDistribution.py:200: RuntimeWarning: overflow encountered in true_divide\n"
     ]
    },
    {
     "name": "stdout",
     "output_type": "stream",
     "text": [
      "     100 -43201.3      5.6 -43195.7      7  [    0.998    1.057    0.059   -0.159    0.298 ...]\n",
      "     200  50262.7      6.6  50269.3      7  [    1.002    0.905   -0.004   -0.148    0.130 ...]\n",
      "     300  96852.2      7.6  96859.8      7  [    0.995    0.981    0.067    0.132    0.148 ...]\n",
      "     400 141918.0      8.6 141926.6      7  [    0.991    1.025    0.046   -0.080    0.089 ...]\n",
      "     500 178858.8      9.6 178868.4      7  [    0.991    0.918    0.030    0.051    0.081 ...]\n",
      "     600 217928.8     10.6 217939.4      7  [    1.006    0.964   -0.022   -0.005    0.065 ...]\n",
      "     700 271275.5     11.6 271287.2      7  [    0.996    1.040   -0.018   -0.008    0.046 ...]\n",
      "     800 312998.0     12.6 313010.6      7  [    0.993    1.021   -0.001   -0.009    0.009 ...]\n",
      "     900 342864.6     13.6 342878.2      7  [    0.994    0.910    0.000   -0.003    0.020 ...]\n",
      "    1000 368784.1     14.6 368798.7      7  [    0.999    0.948    0.006   -0.003    0.018 ...]\n",
      "    1100 388775.0     15.6 388790.6      7  [    0.995    0.997    0.010    0.002    0.009 ...]\n",
      "    1200 406389.9     16.6 406406.5      7  [    0.998    1.027    0.003   -0.007    0.010 ...]\n",
      "    1300 420425.2     17.6 420442.8      7  [    1.002    1.081    0.001   -0.003    0.007 ...]\n",
      "    1400 434116.5     18.6 434135.1      7  [    1.001    1.094   -0.003   -0.004    0.008 ...]\n",
      "    1500 445565.9     19.6 445585.5      7  [    1.001    1.052    0.002   -0.003    0.007 ...]\n",
      "    1600 453710.3     20.6 453730.9      7  [    1.001    1.011    0.002   -0.001    0.005 ...]\n",
      "    1700 459874.3     21.6 459895.9      7  [    0.999    1.078    0.000    0.001    0.005 ...]\n",
      "    1800 465085.0     22.6 465107.6      7  [    0.999    1.060    0.000   -0.001    0.005 ...]\n",
      "    1900 469293.2     23.6 469316.8      7  [    0.999    1.053   -0.001   -0.001    0.005 ...]\n",
      "    2000 472923.9     24.6 472948.5      7  [    0.999    1.097    0.000   -0.000    0.005 ...]\n",
      "    2100 478171.3     25.6 478196.9      7  [    0.997    1.002    0.003    0.002    0.006 ...]\n",
      "    2200 481471.9     26.6 481498.5      7  [    0.997    1.002    0.003    0.001    0.006 ...]\n",
      "    2300 484714.6     27.5 484742.2      7  [    0.999    1.000    0.005    0.001    0.005 ...]\n",
      "    2400 488171.9     28.4 488200.4      7  [    0.999    0.999    0.003   -0.005    0.005 ...]\n",
      "    2500 491937.2     29.6 491966.8      7  [    0.999    1.000    0.003   -0.000    0.005 ...]\n",
      "    2600 497106.1     30.6 497136.7      7  [    0.999    0.999   -0.005   -0.004    0.005 ...]\n",
      "    2700 499926.0     31.6 499957.6      7  [    1.001    0.998    0.004    0.000    0.003 ...]\n",
      "    2800 501946.1     32.6 501978.7      7  [    0.999    1.001    0.004   -0.003    0.004 ...]\n",
      "    2900 503457.0     33.6 503490.6      7  [    0.999    1.001    0.003   -0.002    0.003 ...]\n",
      "    3000 505012.9     34.6 505047.5      7  [    0.999    1.001    0.005    0.000    0.003 ...]\n",
      "    3100 506900.1     35.6 506935.7      7  [    0.999    0.999    0.003   -0.003    0.003 ...]\n",
      "    3200 508453.5     36.6 508490.1      7  [    0.999    0.998    0.004    0.001    0.004 ...]\n",
      "    3300 509525.6     37.6 509563.2      7  [    0.999    0.998    0.005   -0.000    0.004 ...]\n",
      "    3400 510449.6     37.8 510487.8      7  [    0.999    0.998    0.004    0.001    0.004 ...]\n",
      "    3500 511133.6     39.6 511173.2      7  [    0.999    0.998    0.004    0.001    0.004 ...]\n",
      "    3600 511607.1     40.4 511647.6      7  [    0.999    0.998    0.004    0.000    0.004 ...]\n",
      "    3700 511871.0     40.5 511911.9      7  [    0.999    0.998    0.004    0.002    0.003 ...]\n",
      "    3800 512216.4     41.7 512258.5      7  [    0.999    0.998    0.004   -0.002    0.004 ...]\n",
      "    3900 512537.8     43.1 512581.3      7  [    0.999    0.997    0.004   -0.002    0.004 ...]\n",
      "    4000 512778.0     44.1 512822.4      7  [    0.999    0.997    0.004   -0.003    0.004 ...]\n",
      "    4100 513168.5     45.3 513214.1      7  [    0.999    0.998    0.004   -0.001    0.003 ...]\n",
      "    4200 513411.9     45.5 513457.7      7  [    0.999    0.998    0.004    0.001    0.004 ...]\n",
      "    4300 513576.4     46.5 513623.3      7  [    0.999    0.998    0.004    0.002    0.004 ...]\n",
      "    4400 513821.7     48.2 513870.2      7  [    0.999    0.998    0.004    0.001    0.004 ...]\n",
      "    4500 514290.0     49.6 514339.6      7  [    0.999    1.000    0.004   -0.001    0.003 ...]\n",
      "    4600 514994.1     50.1 515044.5      7  [    0.998    0.999    0.004   -0.001    0.003 ...]\n",
      "    4700 515771.3     51.3 515822.8      7  [    0.999    1.000    0.004    0.001    0.003 ...]\n",
      "    4800 516869.2     52.6 516921.8      7  [    0.999    1.000    0.005    0.000    0.004 ...]\n",
      "    4900 517675.8     53.4 517729.4      7  [    0.999    0.999    0.005   -0.001    0.003 ...]\n",
      "    5000 518331.7     54.6 518386.3      7  [    0.999    0.999    0.004   -0.001    0.003 ...]\n",
      "    5100 518675.1     54.5 518729.7      7  [    0.999    0.999    0.004   -0.001    0.003 ...]\n",
      "    5200 519151.3     56.5 519207.9      7  [    1.000    1.000    0.004   -0.000    0.003 ...]\n",
      "    5300 519630.8     57.6 519688.4      7  [    0.999    0.999    0.004   -0.003    0.003 ...]\n",
      "    5400 519921.0     58.1 519979.4      7  [    0.999    0.999    0.004   -0.002    0.003 ...]\n",
      "    5500 520104.9     58.5 520163.8      7  [    1.000    0.999    0.005   -0.002    0.003 ...]\n",
      "    5600 520347.4     60.1 520407.8      7  [    1.000    0.999    0.005   -0.002    0.003 ...]\n",
      "    5700 520542.8     61.4 520604.4      7  [    1.000    0.999    0.004   -0.001    0.003 ...]\n",
      "    5800 520658.2     61.6 520720.6      7  [    1.000    0.999    0.004   -0.002    0.003 ...]\n",
      "    5900 520772.6     62.5 520835.9      7  [    1.000    0.999    0.004   -0.002    0.003 ...]\n",
      "    6000 520906.9     63.6 520971.1      7  [    0.999    0.999    0.004   -0.003    0.003 ...]\n",
      "    6100 520999.0     64.1 521063.5      7  [    0.999    0.999    0.004   -0.003    0.003 ...]\n",
      "    6200 521113.0     65.6 521178.8      7  [    0.999    0.999    0.004   -0.002    0.003 ...]\n",
      "    6300 521203.2     65.9 521269.6      7  [    0.999    0.999    0.004   -0.002    0.003 ...]\n",
      "    6400 521270.8     66.9 521338.5      7  [    0.999    1.000    0.004    0.001    0.003 ...]\n",
      "    6500 521325.3     68.0 521394.0      7  [    1.000    0.999    0.004   -0.002    0.003 ...]\n",
      "    6600 521388.4     68.5 521457.9      7  [    0.999    0.999    0.004   -0.002    0.003 ...]\n",
      "    6700 521431.7     69.6 521501.7      7  [    0.999    0.999    0.005   -0.001    0.003 ...]\n",
      "    6800 521460.8     69.9 521531.4      7  [    0.999    0.999    0.004   -0.002    0.003 ...]\n",
      "    6900 521481.4     71.5 521553.7      7  [    0.999    0.999    0.004   -0.002    0.003 ...]\n",
      "    7000 521504.7     71.6 521577.2      7  [    0.999    0.999    0.005   -0.002    0.003 ...]\n",
      "    7100 521525.3     72.9 521599.1      7  [    0.999    0.999    0.004   -0.001    0.003 ...]\n",
      "    7200 521537.8     73.5 521612.5      7  [    0.999    0.999    0.004   -0.002    0.003 ...]\n",
      "    7300 521551.3     74.6 521627.1      7  [    0.999    0.999    0.004   -0.002    0.003 ...]\n",
      "    7400 521567.3     75.8 521643.8      7  [    0.999    1.000    0.005   -0.001    0.003 ...]\n",
      "    7500 521585.1     76.6 521662.6      7  [    0.999    1.000    0.005   -0.000    0.003 ...]\n",
      "    7600 521608.1     78.3 521687.2      7  [    0.999    1.000    0.005   -0.000    0.003 ...]\n",
      "    7700 521620.4     78.2 521699.7      7  [    0.999    1.000    0.005    0.001    0.003 ...]\n",
      "    7800 521632.0     79.0 521712.1      7  [    0.999    1.000    0.005   -0.000    0.003 ...]\n",
      "    7900 521639.6     80.1 521720.8      7  [    0.999    1.000    0.005    0.000    0.003 ...]\n",
      "    8000 521648.1     80.8 521729.8      7  [    0.999    1.000    0.005    0.000    0.003 ...]\n",
      "    8100 521652.9     81.0 521734.9      7  [    0.999    1.000    0.005    0.000    0.003 ...]\n",
      "    8200 521656.7     82.1 521740.3      7  [    0.999    1.000    0.005    0.000    0.003 ...]\n",
      "    8300 521660.4     82.9 521744.4      7  [    0.999    1.000    0.005    0.001    0.003 ...]\n",
      "    8400 521662.5     83.2 521746.8      7  [    0.999    1.000    0.005    0.000    0.003 ...]\n",
      "    8500 521663.6     83.5 521748.5      7  [    0.999    1.000    0.005    0.000    0.003 ...]\n",
      "    8600 521664.4     84.0 521750.6      7  [    0.999    1.000    0.005    0.001    0.003 ...]\n"
     ]
    },
    {
     "name": "stdout",
     "output_type": "stream",
     "text": [
      "    8700 521666.2     85.9 521753.8      7  [    0.999    1.000    0.005    0.001    0.003 ...]\n",
      "    8800 521668.3     87.3 521757.1      7  [    0.999    1.000    0.005    0.001    0.003 ...]\n",
      "    8900 521670.3     88.2 521759.8      7  [    0.999    1.000    0.005    0.001    0.003 ...]\n",
      "    9000 521671.6     88.6 521761.6      7  [    0.999    1.000    0.005    0.001    0.003 ...]\n",
      "    9100 521672.5     89.1 521763.3      7  [    0.999    1.000    0.005    0.001    0.003 ...]\n",
      "    9200 521673.1     89.6 521764.6      7  [    0.999    1.000    0.005    0.001    0.003 ...]\n",
      "    9300 521673.7     90.1 521765.9      7  [    0.999    1.000    0.005    0.001    0.003 ...]\n",
      "    9400 521674.1     90.6 521767.0      7  [    0.999    1.000    0.005    0.001    0.003 ...]\n",
      "    9500 521674.4     91.1 521768.3      7  [    0.999    1.000    0.005    0.001    0.003 ...]\n",
      "    9600 521674.7     91.7 521769.5      7  [    0.999    1.000    0.005    0.001    0.003 ...]\n",
      "    9700 521675.0     92.3 521770.5      7  [    0.999    1.000    0.005    0.001    0.003 ...]\n",
      "    9800 521675.1     92.7 521771.4      7  [    0.999    1.000    0.005    0.001    0.003 ...]\n",
      "    9900 521675.3     93.3 521772.9      7  [    0.999    1.000    0.005    0.001    0.003 ...]\n",
      "   10000 521675.5     93.9 521773.5      7  [    0.999    1.000    0.005    0.001    0.003 ...]\n",
      "   10100 521675.6     94.2 521774.3      7  [    0.999    1.000    0.005    0.001    0.003 ...]\n",
      "   10200 521675.7     94.6 521775.2      7  [    0.999    1.000    0.004    0.002    0.003 ...]\n",
      "   10300 521675.8     95.0 521776.5      7  [    0.999    1.000    0.004    0.002    0.003 ...]\n",
      "   10400 521676.0     95.6 521778.1      7  [    0.999    1.000    0.004    0.002    0.003 ...]\n",
      "   10500 521676.1     96.7 521779.8      7  [    0.999    1.000    0.004    0.002    0.003 ...]\n",
      "   10600 521676.4     98.1 521780.9      7  [    0.999    1.000    0.004    0.003    0.003 ...]\n",
      "   10700 521676.6     99.3 521782.0      7  [    0.999    1.000    0.004    0.002    0.003 ...]\n",
      "   10800 521676.8    100.2 521782.8      7  [    0.999    1.000    0.004    0.002    0.003 ...]\n",
      "   10900 521676.9    100.7 521783.3      7  [    0.999    1.000    0.004    0.002    0.003 ...]\n",
      "   11000 521676.9    100.9 521783.7      7  [    0.999    1.000    0.004    0.002    0.003 ...]\n",
      "   11100 521677.0    101.1 521784.0      7  [    0.999    1.000    0.004    0.002    0.003 ...]\n",
      "   11200 521677.0    101.1 521784.2      7  [    0.999    1.000    0.004    0.002    0.003 ...]\n",
      "   11300 521677.0    101.2 521784.4      7  [    0.999    1.000    0.004    0.002    0.003 ...]\n",
      "   11400 521677.0    101.2 521784.5      7  [    0.999    1.000    0.004    0.002    0.003 ...]\n",
      "   11500 521677.0    101.2 521784.7      7  [    0.999    1.000    0.004    0.002    0.003 ...]\n",
      "   11600 521677.0    101.2 521784.8      7  [    0.999    1.000    0.004    0.002    0.003 ...]\n",
      "   11700 521677.0    101.2 521785.0      7  [    0.999    1.000    0.004    0.002    0.003 ...]\n",
      "   11800 521677.0    101.2 521785.2      7  [    0.999    1.000    0.004    0.003    0.003 ...]\n",
      "   11900 521677.0    101.2 521785.4      7  [    0.999    1.000    0.004    0.003    0.003 ...]\n",
      "   12000 521677.0    101.2 521785.5      7  [    0.999    1.000    0.004    0.002    0.003 ...]\n",
      "   12100 521677.0    101.2 521785.5      7  [    0.999    1.000    0.004    0.002    0.003 ...]\n",
      "   12200 521677.0    101.2 521785.6      7  [    0.999    1.000    0.004    0.003    0.003 ...]\n",
      "   12300 521677.0    101.2 521785.6      7  [    0.999    1.000    0.004    0.003    0.003 ...]\n",
      "   12400 521677.0    101.2 521785.7      7  [    0.999    1.000    0.004    0.002    0.003 ...]\n",
      "   12500 521677.0    101.2 521785.7      7  [    0.999    1.000    0.004    0.002    0.003 ...]\n",
      "   12600 521677.0    101.2 521785.8      7  [    0.999    1.000    0.004    0.002    0.003 ...]\n",
      "   12700 521677.0    101.2 521785.9      7  [    0.999    1.000    0.004    0.002    0.003 ...]\n",
      "   12800 521677.0    101.2 521786.0      7  [    0.999    1.000    0.004    0.002    0.003 ...]\n",
      "   12900 521677.0    101.2 521786.1      7  [    0.999    1.000    0.004    0.002    0.003 ...]\n",
      "   13000 521677.0    101.2 521786.1      7  [    0.999    1.000    0.004    0.002    0.003 ...]\n",
      "   13100 521677.0    101.2 521786.1      7  [    0.999    1.000    0.004    0.002    0.003 ...]\n",
      "   13200 521677.0    101.2 521786.2      7  [    0.999    1.000    0.004    0.002    0.003 ...]\n",
      "   13300 521677.0    101.2 521786.2      7  [    0.999    1.000    0.004    0.002    0.003 ...]\n",
      "   13400 521677.0    101.2 521786.3      7  [    0.999    1.000    0.004    0.002    0.003 ...]\n",
      "   13500 521677.0    101.2 521786.3      7  [    0.999    1.000    0.004    0.002    0.003 ...]\n",
      "   13600 521677.0    101.2 521786.4      7  [    0.999    1.000    0.004    0.002    0.003 ...]\n",
      "   13700 521677.0    101.2 521786.4      7  [    0.999    1.000    0.004    0.002    0.003 ...]\n",
      "   13800 521677.0    101.2 521786.5      7  [    0.999    1.000    0.004    0.002    0.003 ...]\n",
      "   13900 521677.0    101.2 521786.5      7  [    0.999    1.000    0.004    0.002    0.003 ...]\n",
      "   14000 521677.0    101.2 521786.6      7  [    0.999    1.000    0.004    0.002    0.003 ...]\n",
      "   14100 521677.0    101.2 521786.6      7  [    0.999    1.000    0.004    0.002    0.003 ...]\n",
      "   14200 521677.0    101.2 521786.7      7  [    0.999    1.000    0.004    0.002    0.003 ...]\n",
      "   14300 521677.0    101.2 521786.7      7  [    0.999    1.000    0.004    0.002    0.003 ...]\n",
      "   14400 521677.0    101.2 521786.7      7  [    0.999    1.000    0.004    0.002    0.003 ...]\n",
      "   14500 521677.0    101.2 521786.8      7  [    0.999    1.000    0.004    0.002    0.003 ...]\n",
      "   14600 521677.0    101.2 521786.8      7  [    0.999    1.000    0.004    0.002    0.003 ...]\n",
      "   14700 521677.0    101.2 521786.9      7  [    0.999    1.000    0.004    0.002    0.003 ...]\n",
      "   14800 521677.0    101.2 521786.9      7  [    0.999    1.000    0.004    0.002    0.003 ...]\n",
      "   14900 521677.0    101.2 521787.0      7  [    0.999    1.000    0.004    0.002    0.003 ...]\n",
      "   15000 521677.0    101.2 521787.0      7  [    0.999    1.000    0.004    0.002    0.003 ...]\n",
      "   15100 521677.0    101.2 521787.0      7  [    0.999    1.000    0.004    0.002    0.003 ...]\n",
      "   15200 521677.0    101.2 521787.0      7  [    0.999    1.000    0.004    0.002    0.003 ...]\n",
      "   15300 521677.0    101.2 521787.0      7  [    0.999    1.000    0.004    0.002    0.003 ...]\n",
      "   15400 521677.0    101.2 521787.0      7  [    0.999    1.000    0.004    0.002    0.003 ...]\n",
      "   15500 521677.0    101.2 521787.1      7  [    0.999    1.000    0.004    0.002    0.003 ...]\n",
      "   15600 521677.0    101.2 521787.1      7  [    0.999    1.000    0.004    0.002    0.003 ...]\n",
      "   15700 521677.0    101.2 521787.1      7  [    0.999    1.000    0.004    0.002    0.003 ...]\n",
      "   15800 521677.0    101.2 521787.1      7  [    0.999    1.000    0.004    0.002    0.003 ...]\n",
      "   15900 521677.0    101.2 521787.1      7  [    0.999    1.000    0.004    0.002    0.003 ...]\n",
      "   16000 521677.0    101.2 521787.1      7  [    0.999    1.000    0.004    0.002    0.003 ...]\n",
      "   16100 521677.0    101.2 521787.1      7  [    0.999    1.000    0.004    0.002    0.003 ...]\n",
      "   16200 521677.0    101.2 521787.1      7  [    0.999    1.000    0.004    0.002    0.003 ...]\n",
      "   16300 521677.0    101.2 521787.1      7  [    0.999    1.000    0.004    0.002    0.003 ...]\n",
      "   16400 521677.0    101.2 521787.1      7  [    0.999    1.000    0.004    0.002    0.003 ...]\n",
      "   16500 521677.0    101.2 521787.1      7  [    0.999    1.000    0.004    0.002    0.003 ...]\n",
      "   16600 521677.0    101.2 521787.1      7  [    0.999    1.000    0.004    0.002    0.003 ...]\n",
      "   16700 521677.0    101.2 521787.1      7  [    0.999    1.000    0.004    0.002    0.003 ...]\n",
      "   16800 521677.0    101.2 521787.1      7  [    0.999    1.000    0.004    0.002    0.003 ...]\n",
      "   16900 521677.0    101.2 521787.1      7  [    0.999    1.000    0.004    0.002    0.003 ...]\n",
      "   17000 521677.0    101.2 521787.1      7  [    0.999    1.000    0.004    0.002    0.003 ...]\n",
      "   17100 521677.0    101.2 521787.1      7  [    0.999    1.000    0.004    0.002    0.003 ...]\n",
      "   17200 521677.0    101.2 521787.1      7  [    0.999    1.000    0.004    0.002    0.003 ...]\n"
     ]
    },
    {
     "name": "stdout",
     "output_type": "stream",
     "text": [
      "   17300 521677.0    101.2 521787.1      7  [    0.999    1.000    0.004    0.002    0.003 ...]\n",
      "   17400 521677.0    101.2 521787.1      7  [    0.999    1.000    0.004    0.002    0.003 ...]\n",
      "   17500 521677.0    101.2 521787.1      7  [    0.999    1.000    0.004    0.002    0.003 ...]\n",
      "   17600 521677.0    101.2 521787.1      7  [    0.999    1.000    0.004    0.002    0.003 ...]\n",
      "   17700 521677.0    101.2 521787.2      7  [    0.999    1.000    0.004    0.002    0.003 ...]\n",
      "   17800 521677.0    101.2 521787.2      7  [    0.999    1.000    0.004    0.002    0.003 ...]\n",
      "   17900 521677.0    101.2 521787.2      7  [    0.999    1.000    0.004    0.002    0.003 ...]\n",
      "   18000 521677.0    101.2 521787.2      7  [    0.999    1.000    0.004    0.002    0.003 ...]\n",
      "   18100 521677.0    101.2 521787.2      7  [    0.999    1.000    0.004    0.002    0.003 ...]\n",
      "   18200 521677.0    101.2 521787.2      7  [    0.999    1.000    0.004    0.002    0.003 ...]\n",
      "   18300 521677.0    101.2 521787.2      7  [    0.999    1.000    0.004    0.002    0.003 ...]\n",
      "   18400 521677.0    101.2 521787.2      7  [    0.999    1.000    0.004    0.002    0.003 ...]\n",
      "   18500 521677.0    101.2 521787.2      7  [    0.999    1.000    0.004    0.002    0.003 ...]\n",
      "   18600 521677.0    101.2 521787.2      7  [    0.999    1.000    0.004    0.002    0.003 ...]\n",
      "   18700 521677.0    101.2 521787.2      7  [    0.999    1.000    0.004    0.002    0.003 ...]\n",
      "   18800 521677.0    101.2 521787.2      7  [    0.999    1.000    0.004    0.002    0.003 ...]\n",
      "   18900 521677.0    101.2 521787.2      7  [    0.999    1.000    0.004    0.002    0.003 ...]\n",
      "   19000 521677.0    101.2 521787.2      7  [    0.999    1.000    0.004    0.002    0.003 ...]\n",
      "   19100 521677.0    101.2 521787.2      7  [    0.999    1.000    0.004    0.002    0.003 ...]\n",
      "   19200 521677.0    101.2 521787.2      7  [    0.999    1.000    0.004    0.002    0.003 ...]\n",
      "   19300 521677.0    101.2 521787.2      7  [    0.999    1.000    0.004    0.002    0.003 ...]\n",
      "   19400 521677.0    101.2 521787.2      7  [    0.999    1.000    0.004    0.002    0.003 ...]\n",
      "   19500 521677.0    101.2 521787.2      7  [    0.999    1.000    0.004    0.002    0.003 ...]\n",
      "   19600 521677.0    101.2 521787.2      7  [    0.999    1.000    0.004    0.002    0.003 ...]\n",
      "   19700 521677.0    101.2 521787.2      7  [    0.999    1.000    0.004    0.002    0.003 ...]\n",
      "   19800 521677.0    101.2 521787.2      7  [    0.999    1.000    0.004    0.002    0.003 ...]\n",
      "   19900 521677.0    101.2 521787.2      7  [    0.999    1.000    0.004    0.002    0.003 ...]\n",
      "   20000 521677.0    101.2 521787.2      7  [    0.999    1.000    0.004    0.002    0.003 ...]\n",
      "   20100 521677.0    101.2 521787.2      7  [    0.999    1.000    0.004    0.002    0.003 ...]\n",
      "   20200 521677.0    101.2 521787.2      7  [    0.999    1.000    0.004    0.002    0.003 ...]\n",
      "Engines              success     reject     failed      calls\n",
      "GalileanEngine        111340      41671      75140          0\n",
      "Calls to LogL         228151   to dLogL      41671\n",
      "Samples       20339\n",
      "Evidence    226561.441 +-      0.437\n",
      "[0.99942081 0.99967458 0.0043425  0.00191189]\n",
      "[2.66997042e-06 2.69003643e-05 1.64771949e-04 3.93961013e-04]\n",
      "0.0028750422997725657\n",
      "226561.441108669\n"
     ]
    }
   ],
   "source": [
    "ged = GaussErrorDistribution( frq, flx, limits=[0.001,1])\n",
    "ued = UniformErrorDistribution( frq, flx, limits=[0.1,10] )\n",
    "ed = MixedErrorDistribution( ged, ued, limits=[0,1] )\n",
    "\n",
    "#Tools.printclass( ed )\n",
    "#Tools.printclass( ed.hyperpar[0] )\n",
    "#Tools.printclass( ed.hyperpar[1] )\n",
    "#Tools.printclass( ed.hyperpar[2] )\n",
    "\n",
    "ns = NestedSampler( frq, model, flx, distribution=ed, seed=2222 )\n",
    "ns.verbose = 2\n",
    "\n",
    "evidence = ns.sample( )\n",
    "pars = ns.parameters\n",
    "print( pars )\n",
    "print( ns.stdevs )\n",
    "print( ns.scale )\n",
    "print( evidence )"
   ]
  },
  {
   "cell_type": "code",
   "execution_count": 8,
   "metadata": {},
   "outputs": [
    {
     "name": "stdout",
     "output_type": "stream",
     "text": [
      "Params  [    0.99942    0.99967    0.00434    0.00191]\n",
      "Stdevs  [    0.00000    0.00003    0.00016    0.00039]\n",
      "Hypars  [    0.00288    0.80304    0.91305]\n",
      "StdHyp  [    0.00000    0.00004    0.00094]\n",
      "[0.00287504 0.80304257 0.91305183]\n",
      "[4.82896377e-06 4.42923086e-05 9.39072659e-04]\n"
     ]
    }
   ],
   "source": [
    "sl = ns.samples\n",
    "param = sl.parameters\n",
    "stdev = sl.stdevs\n",
    "hypar = sl.hypars\n",
    "sthyp = sl.stdevHypars\n",
    "print( \"Params \", fmt( param, max=None, format=\" %10.5f\" ) )\n",
    "print( \"Stdevs \", fmt( stdev, max=None, format=\" %10.5f\" ) )\n",
    "print( \"Hypars \", fmt( hypar, max=None, format=\" %10.5f\" ) )\n",
    "print( \"StdHyp \", fmt( sthyp, max=None, format=\" %10.7f\" ) )\n"
   ]
  },
  {
   "cell_type": "code",
   "execution_count": 9,
   "metadata": {},
   "outputs": [
    {
     "data": {
      "image/png": "[encoded data removed]",
      "text/plain": [
       "<matplotlib.figure.Figure at 0x114715ef0>"
      ]
     },
     "metadata": {},
     "output_type": "display_data"
    }
   ],
   "source": [
    "yfit = model.result( frq, param )\n",
    "plt.figure( 1, figsize=(12,4) )\n",
    "plt.plot( frq, flx, 'k,' )\n",
    "plt.plot( frq, yfit, 'r-' )\n",
    "plt.show()"
   ]
  },
  {
   "cell_type": "code",
   "execution_count": null,
   "metadata": {},
   "outputs": [],
   "source": []
  }
 ],
 "metadata": {
  "anaconda-cloud": {},
  "kernelspec": {
   "display_name": "Python 3",
   "language": "python",
   "name": "python3"
  },
  "language_info": {
   "codemirror_mode": {
    "name": "ipython",
    "version": 3
   },
   "file_extension": ".py",
   "mimetype": "text/x-python",
   "name": "python",
   "nbconvert_exporter": "python",
   "pygments_lexer": "ipython3",
   "version": "3.5.4"
  }
 },
 "nbformat": 4,
 "nbformat_minor": 1
}
