{
 "cells": [
  {
   "cell_type": "markdown",
   "metadata": {},
   "source": [
    "# NDVI computation with eodag\n",
    "\n",
    "\n",
    "In this tutorial, we compute a bandmath on a Sentinel-2 source, directly by giving an extent with eodag. The area of interest is the center of Toulouse."
   ]
  },
  {
   "cell_type": "code",
   "execution_count": 1,
   "metadata": {},
   "outputs": [],
   "source": [
    "import matplotlib.pyplot as plt\n",
    "import ipyleaflet as ipyl\n",
    "import ipywidgets as ipyw\n",
    "\n",
    "from eodag.api.core import SatImagesAPI\n",
    "\n",
    "\n",
    "base_dir = '/projects/sdk'"
   ]
  },
  {
   "cell_type": "markdown",
   "metadata": {},
   "source": [
    "We define an extent and set preferred provider for the product type S2 L1C, and make a search on the month of May:"
   ]
  },
  {
   "cell_type": "code",
   "execution_count": 2,
   "metadata": {
    "scrolled": true
   },
   "outputs": [
    {
     "data": {
      "text/plain": [
       "u'S2A_MSIL1C_20180521T105031_N0206_R051_T31TCJ_20180521T125745'"
      ]
     },
     "execution_count": 2,
     "metadata": {},
     "output_type": "execute_result"
    }
   ],
   "source": [
    "dag = SatImagesAPI(user_conf_file_path='%s/myconf.yml' % base_dir)\n",
    "\n",
    "product_type = 'S2_MSI_L1C'\n",
    "extent = {\n",
    "    'lonmin': 1.306000,\n",
    "    'lonmax': 1.551819,\n",
    "    'latmin': 43.527642,\n",
    "    'latmax': 43.662905\n",
    "}\n",
    "\n",
    "products = dag.search(product_type, \n",
    "                      startTimeFromAscendingNode='2018-05-01', \n",
    "                      completionTimeFromAscendingNode='2018-05-31', \n",
    "                      geometry=extent,\n",
    "                      cloudCover=1)\n",
    "product = products[0]\n",
    "product.properties['title']"
   ]
  },
  {
   "cell_type": "markdown",
   "metadata": {},
   "source": [
    "The method **get_data** allows to perform an operation directly on bands without managing the download. We can see in green the \"Prairie des Filtres\" on the left, and \"Grand-Rond\"-\"Jardin des plantes\" parks on the right center. In red, the \"Garonne\"."
   ]
  },
  {
   "cell_type": "code",
   "execution_count": null,
   "metadata": {
    "scrolled": false
   },
   "outputs": [
    {
     "name": "stderr",
     "output_type": "stream",
     "text": [
      "No handlers could be found for logger \"eodag.api.product\"\n",
      "628MKB [00:55, 11.7MKB/s] "
     ]
    }
   ],
   "source": [
    "VIR = product.get_data(crs='epsg:4326', resolution=0.0001, band='B04', extent=(1.435905, 43.586857, 1.458907, 43.603827))\n",
    "NIR = product.get_data(crs='epsg:4326', resolution=0.0001, band='B08', extent=(1.435905, 43.586857, 1.458907, 43.603827))\n",
    "NDVI = (NIR - VIR * 1.) / (NIR + VIR)\n",
    "\n",
    "\n",
    "plt.imshow(NDVI, cmap='RdYlGn', aspect='auto')\n",
    "plt.savefig('%s/img/ndvi_toulouse.png' % base_dir)"
   ]
  }
 ],
 "metadata": {
  "kernelspec": {
   "display_name": "Python 2",
   "language": "python",
   "name": "python2"
  },
  "language_info": {
   "codemirror_mode": {
    "name": "ipython",
    "version": 2
   },
   "file_extension": ".py",
   "mimetype": "text/x-python",
   "name": "python",
   "nbconvert_exporter": "python",
   "pygments_lexer": "ipython2",
   "version": "2.7.12"
  }
 },
 "nbformat": 4,
 "nbformat_minor": 2
}
